{
 "cells": [
  {
   "cell_type": "code",
   "execution_count": 1,
   "metadata": {},
   "outputs": [],
   "source": [
    "import requests"
   ]
  },
  {
   "cell_type": "code",
   "execution_count": 2,
   "metadata": {},
   "outputs": [],
   "source": [
    "cookies = {\n",
    "    '_gcl_au': '1.1.1373909076.1697544603',\n",
    "    '__utmc': '57748789',\n",
    "    '_scid': '9483bdfb-9699-4b61-81a9-c68f752777c5',\n",
    "    '_tt_enable_cookie': '1',\n",
    "    '_ttp': 'feAjJqZAIeKbNuF8SRdkBBu1inD',\n",
    "    '_ga_XB41ZF9N1W': 'GS1.2.1697786211.3.0.1697786211.0.0.0',\n",
    "    'PS_TokenSite': 'https://sis.portal.nyu.edu/psp/ihprod/?pco01lw-2131s-8051-PORTAL-PSJSESSIONID',\n",
    "    'SignOnDefault': '',\n",
    "    'BIGipServer~SNS-LOW~sis.nyu.edu-pool-RH8': 'rd3133o00000000000000000000ffff0a2f064bo8066',\n",
    "    'HPTabName': 'IS_SSS_TAB',\n",
    "    'HPTabNameRemote': '',\n",
    "    'LastActiveTab': 'IS_SSS_TAB',\n",
    "    '_ga_CFVL8X8ZZR': 'GS1.2.1698579155.1.0.1698579155.0.0.0',\n",
    "    '_ga_3NDS4YB6DD': 'GS1.2.1698579155.1.0.1698579155.0.0.0',\n",
    "    '_ga_6HPB5T4JMW': 'GS1.1.1698994508.3.0.1698994508.0.0.0',\n",
    "    '_ga_7STLMV3R1B': 'GS1.1.1699553007.6.0.1699553007.0.0.0',\n",
    "    '_ga_QRV1KT1V90': 'GS1.1.1699613465.3.1.1699613468.57.0.0',\n",
    "    '_gid': 'GA1.2.506722200.1699718536',\n",
    "    '_clck': '1h4xkwz|2|fgn|0|1389',\n",
    "    '_ga_6VXTC1Y945': 'GS1.1.1699785936.22.0.1699785939.0.0.0',\n",
    "    '_ga_KPZT22D2JV': 'GS1.1.1699785936.20.0.1699785939.0.0.0',\n",
    "    '_ga_J5QH062MFZ': 'GS1.2.1699846665.2.0.1699846665.0.0.0',\n",
    "    '_rdt_uuid': '1699856775950.160cf970-869f-4a68-9fdb-ccf70c7f90ae',\n",
    "    '_ga_4KMKZB2FF1': 'GS1.1.1699856775.1.1.1699856834.1.0.0',\n",
    "    '_uetvid': '7da222c081ef11eea26cb7c566fd2b2e',\n",
    "    '_ga_WJGHFJH7GS': 'GS1.1.1699857609.1.0.1699857647.22.0.0',\n",
    "    '_ga_8PN1ZVWN8M': 'GS1.1.1699857609.1.0.1699857647.22.0.0',\n",
    "    '_ga_7NW69L76KX': 'GS1.1.1699857968.7.0.1699857976.0.0.0',\n",
    "    '_ga_WD1XVC4N5R': 'GS1.1.1699857753.7.1.1699858847.0.0.0',\n",
    "    '_ga_NKFR3ZK5B1': 'GS1.1.1699857753.1.1.1699858847.0.0.0',\n",
    "    '_drip_client_6158192': 'vid%253Db88fea03e06b4d1885691784a3e246ac%2526pageViews%253D2%2526sessionPageCount%253D1%2526lastVisitedAt%253D1699972260247%2526weeklySessionCount%253D2%2526lastSessionAt%253D1699972260247',\n",
    "    '_ga_2YVHNYZEDV': 'GS1.1.1699972258.2.1.1699972335.60.0.0',\n",
    "    '_ga_8LWW5K69SH': 'GS1.1.1699970867.23.1.1699974728.0.0.0',\n",
    "    '__utmz': '57748789.1699975013.22.16.utmcsr=google|utmccn=(organic)|utmcmd=organic|utmctr=(not%20provided)',\n",
    "    '_ga_XTKMZC5NF8': 'GS1.1.1700021324.28.0.1700021489.0.0.0',\n",
    "    '_sctr': '1%7C1699977600000',\n",
    "    'lcsrftoken': 'qagAotU/QLaMjf6spgOoB/HAp6G5vI0kEmsbfaUXQso=',\n",
    "    '_ga_Q5EB2V07CQ': 'GS1.1.1700021647.28.1.1700022851.0.0.0',\n",
    "    '_ga_TD3B8TVX4J': 'GS1.1.1700031884.3.1.1700032400.0.0.0',\n",
    "    '__utma': '57748789.2034368621.1697544603.1700032290.1700039221.25',\n",
    "    '__utmt': '1',\n",
    "    '__utmb': '57748789.1.10.1700039221',\n",
    "    '_ga': 'GA1.1.2034368621.1697544603',\n",
    "    '_ga_H4KKXQKFSM': 'GS1.1.1700039221.74.0.1700039221.0.0.0',\n",
    "    '_ga_S4TP6272FF': 'GS1.1.1700039221.57.0.1700039221.0.0.0',\n",
    "    '_ga_YKLBDQJ61W': 'GS1.1.1700039221.74.0.1700039221.0.0.0',\n",
    "    '_scid_r': '9483bdfb-9699-4b61-81a9-c68f752777c5',\n",
    "    '_ga_S194DLZYBD': 'GS1.1.1700039221.73.0.1700039223.0.0.0',\n",
    "    '_ga_9CWXCZX89G': 'GS1.1.1700039221.73.0.1700039223.0.0.0',\n",
    "    '_ga_VR2BFTJ92R': 'GS1.1.1700039221.32.0.1700039223.0.0.0',\n",
    "    '_ga_8Y5XM9YCFW': 'GS1.1.1700039221.79.0.1700039223.0.0.0',\n",
    "}\n",
    "\n",
    "headers = {\n",
    "    'Accept': 'application/json, text/javascript, */*; q=0.01',\n",
    "    'Accept-Language': 'zh-CN,zh;q=0.9,en;q=0.8',\n",
    "    'Connection': 'keep-alive',\n",
    "    'Content-Type': 'application/json',\n",
    "    # 'Cookie': '_gcl_au=1.1.1373909076.1697544603; __utmc=57748789; _scid=9483bdfb-9699-4b61-81a9-c68f752777c5; _tt_enable_cookie=1; _ttp=feAjJqZAIeKbNuF8SRdkBBu1inD; _ga_XB41ZF9N1W=GS1.2.1697786211.3.0.1697786211.0.0.0; PS_TokenSite=https://sis.portal.nyu.edu/psp/ihprod/?pco01lw-2131s-8051-PORTAL-PSJSESSIONID; SignOnDefault=; BIGipServer~SNS-LOW~sis.nyu.edu-pool-RH8=rd3133o00000000000000000000ffff0a2f064bo8066; HPTabName=IS_SSS_TAB; HPTabNameRemote=; LastActiveTab=IS_SSS_TAB; _ga_CFVL8X8ZZR=GS1.2.1698579155.1.0.1698579155.0.0.0; _ga_3NDS4YB6DD=GS1.2.1698579155.1.0.1698579155.0.0.0; _ga_6HPB5T4JMW=GS1.1.1698994508.3.0.1698994508.0.0.0; _ga_7STLMV3R1B=GS1.1.1699553007.6.0.1699553007.0.0.0; _ga_QRV1KT1V90=GS1.1.1699613465.3.1.1699613468.57.0.0; _gid=GA1.2.506722200.1699718536; _clck=1h4xkwz|2|fgn|0|1389; _ga_6VXTC1Y945=GS1.1.1699785936.22.0.1699785939.0.0.0; _ga_KPZT22D2JV=GS1.1.1699785936.20.0.1699785939.0.0.0; _ga_J5QH062MFZ=GS1.2.1699846665.2.0.1699846665.0.0.0; _rdt_uuid=1699856775950.160cf970-869f-4a68-9fdb-ccf70c7f90ae; _ga_4KMKZB2FF1=GS1.1.1699856775.1.1.1699856834.1.0.0; _uetvid=7da222c081ef11eea26cb7c566fd2b2e; _ga_WJGHFJH7GS=GS1.1.1699857609.1.0.1699857647.22.0.0; _ga_8PN1ZVWN8M=GS1.1.1699857609.1.0.1699857647.22.0.0; _ga_7NW69L76KX=GS1.1.1699857968.7.0.1699857976.0.0.0; _ga_WD1XVC4N5R=GS1.1.1699857753.7.1.1699858847.0.0.0; _ga_NKFR3ZK5B1=GS1.1.1699857753.1.1.1699858847.0.0.0; _drip_client_6158192=vid%253Db88fea03e06b4d1885691784a3e246ac%2526pageViews%253D2%2526sessionPageCount%253D1%2526lastVisitedAt%253D1699972260247%2526weeklySessionCount%253D2%2526lastSessionAt%253D1699972260247; _ga_2YVHNYZEDV=GS1.1.1699972258.2.1.1699972335.60.0.0; _ga_8LWW5K69SH=GS1.1.1699970867.23.1.1699974728.0.0.0; __utmz=57748789.1699975013.22.16.utmcsr=google|utmccn=(organic)|utmcmd=organic|utmctr=(not%20provided); _ga_XTKMZC5NF8=GS1.1.1700021324.28.0.1700021489.0.0.0; _sctr=1%7C1699977600000; lcsrftoken=qagAotU/QLaMjf6spgOoB/HAp6G5vI0kEmsbfaUXQso=; _ga_Q5EB2V07CQ=GS1.1.1700021647.28.1.1700022851.0.0.0; _ga_TD3B8TVX4J=GS1.1.1700031884.3.1.1700032400.0.0.0; __utma=57748789.2034368621.1697544603.1700032290.1700039221.25; __utmt=1; __utmb=57748789.1.10.1700039221; _ga=GA1.1.2034368621.1697544603; _ga_H4KKXQKFSM=GS1.1.1700039221.74.0.1700039221.0.0.0; _ga_S4TP6272FF=GS1.1.1700039221.57.0.1700039221.0.0.0; _ga_YKLBDQJ61W=GS1.1.1700039221.74.0.1700039221.0.0.0; _scid_r=9483bdfb-9699-4b61-81a9-c68f752777c5; _ga_S194DLZYBD=GS1.1.1700039221.73.0.1700039223.0.0.0; _ga_9CWXCZX89G=GS1.1.1700039221.73.0.1700039223.0.0.0; _ga_VR2BFTJ92R=GS1.1.1700039221.32.0.1700039223.0.0.0; _ga_8Y5XM9YCFW=GS1.1.1700039221.79.0.1700039223.0.0.0',\n",
    "    'Origin': 'https://bulletins.nyu.edu',\n",
    "    'Referer': 'https://bulletins.nyu.edu/class-search/',\n",
    "    'Sec-Fetch-Dest': 'empty',\n",
    "    'Sec-Fetch-Mode': 'cors',\n",
    "    'Sec-Fetch-Site': 'same-origin',\n",
    "    'User-Agent': 'Mozilla/5.0 (Windows NT 10.0; Win64; x64) AppleWebKit/537.36 (KHTML, like Gecko) Chrome/119.0.0.0 Safari/537.36',\n",
    "    'X-Requested-With': 'XMLHttpRequest',\n",
    "    'sec-ch-ua': '\"Google Chrome\";v=\"119\", \"Chromium\";v=\"119\", \"Not?A_Brand\";v=\"24\"',\n",
    "    'sec-ch-ua-mobile': '?0',\n",
    "    'sec-ch-ua-platform': '\"Windows\"',\n",
    "}\n",
    "\n",
    "params = {\n",
    "    'page': 'fose',\n",
    "    'route': 'details',\n",
    "}\n"
   ]
  },
  {
   "cell_type": "code",
   "execution_count": 14,
   "metadata": {},
   "outputs": [],
   "source": [
    "import json\n",
    "\n",
    "def fetch_course_data(course_code, crn):\n",
    "    data = {\n",
    "        \"group\": f\"code:{course_code}\",\n",
    "        \"key\": f\"crn:{crn}\",\n",
    "        \"srcdb\": \"1238\",\n",
    "        \"matched\": f\"crn:{crn}\"\n",
    "    }\n",
    "    return json.dumps(data)"
   ]
  },
  {
   "cell_type": "code",
   "execution_count": 15,
   "metadata": {},
   "outputs": [],
   "source": [
    "from pickle import loads\n",
    "# read from 'course_registration_number_list.pkl'\n",
    "with open('fall2023course_registration_number_list.pkl', 'rb') as f:\n",
    "    course_registration_number_list = loads(f.read())"
   ]
  },
  {
   "cell_type": "code",
   "execution_count": 16,
   "metadata": {},
   "outputs": [],
   "source": [
    "course_info_list = []\n",
    "\n",
    "for crn in course_registration_number_list:\n",
    "    course_data = fetch_course_data('', crn)\n",
    "    response = requests.post('https://bulletins.nyu.edu/class-search/api/', params=params, cookies=cookies, headers=headers, data=course_data)\n",
    "    course_info = response.json()\n",
    "    course_info_list.append(course_info)"
   ]
  },
  {
   "cell_type": "code",
   "execution_count": 17,
   "metadata": {},
   "outputs": [],
   "source": [
    "with open('fall2023courses_info_CSCI-SHU.json', 'w') as f:\n",
    "    json.dump(course_info_list, f)"
   ]
  },
  {
   "cell_type": "code",
   "execution_count": 18,
   "metadata": {},
   "outputs": [],
   "source": [
    "course_data = fetch_course_data(\"MA-UY 2034G\", \"4042\")\n",
    "response = requests.post('https://bulletins.nyu.edu/class-search/api/', params=params, cookies=cookies, headers=headers, data=course_data)"
   ]
  },
  {
   "cell_type": "code",
   "execution_count": null,
   "metadata": {},
   "outputs": [],
   "source": []
  }
 ],
 "metadata": {
  "kernelspec": {
   "display_name": "crawler",
   "language": "python",
   "name": "python3"
  },
  "language_info": {
   "codemirror_mode": {
    "name": "ipython",
    "version": 3
   },
   "file_extension": ".py",
   "mimetype": "text/x-python",
   "name": "python",
   "nbconvert_exporter": "python",
   "pygments_lexer": "ipython3",
   "version": "3.12.0"
  }
 },
 "nbformat": 4,
 "nbformat_minor": 2
}
