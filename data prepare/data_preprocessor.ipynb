{
 "cells": [
  {
   "cell_type": "code",
   "execution_count": 14,
   "metadata": {},
   "outputs": [],
   "source": [
    "from bs4 import BeautifulSoup\n",
    "\n",
    "def dataprocessor(course_info):\n",
    "    section_html, meetings_html, dates_html = course_info['all_sections'], course_info['meeting_html'], course_info['dates_html']\n",
    "\n",
    "    course_soup = BeautifulSoup(section_html, 'html.parser')\n",
    "    course_sections = course_soup.find_all('a', class_='course-section')\n",
    "    meeting_soup = BeautifulSoup(meetings_html, 'html.parser')\n",
    "    meeting_time = meeting_soup.get_text(strip=True)\n",
    "\n",
    "    # Extract information from each section\n",
    "    section_list = []\n",
    "    for section in course_sections:\n",
    "        crn = section.find('div', class_='course-section-crn').get_text(strip=True)\n",
    "        section_number = section.find('div', class_='course-section-section').get_text(strip=True)\n",
    "        meeting_time = section.find('div', class_='course-section-mp').get_text(strip=True)\n",
    "        instructor = section.find('div', class_='course-section-instr').get_text(strip=True)\n",
    "        section_list.append((crn, section_number, meeting_time, instructor))\n",
    "        print(f\"{crn}, {section_number}, {meeting_time}, {instructor}\")\n",
    "    \n",
    "    # Extract specific parts if needed\n",
    "    meeting_days_and_times = meeting_soup.find('div', class_='meet').contents[0].strip()\n",
    "    meeting_dates = meeting_soup.find('span', class_='meet-dates').get_text(strip=True)\n",
    "\n",
    "    # Parsing \"dates_html\" (usually simpler as it's just a text)\n",
    "    start_date, end_date = dates_html.split(' through ')\n",
    "\n",
    "    # Output the results\n",
    "    print(\"Meeting Days and Times:\", meeting_days_and_times)\n",
    "    print(\"Meeting Dates:\", meeting_dates)\n",
    "    print(\"Start Date:\", start_date)\n",
    "    print(\"End Date:\", end_date)\n",
    "    return "
   ]
  },
  {
   "cell_type": "code",
   "execution_count": 15,
   "metadata": {},
   "outputs": [
    {
     "name": "stdout",
     "output_type": "stream",
     "text": [
      "{'key': '12069', 'mpkey': '8486', 'stat': 'A', 'code': 'CSCI-SHU 101', 'section': '001', 'crn': '17798', 'title': 'Introduction to Computer and Data Science', 'college': 'NYU Shanghai', 'topic': '', 'xlist': '', 'hours_html': '4 Hour Lecture', 'status': 'Active', 'component': 'Lecture', 'instructional_method': 'In-Person', 'campus_location': 'Shanghai', 'registration_restrictions': '', 'description': 'This course has three goals. First, the mastering of a modern object-oriented programming language, enough to allow students to tackle real-world problems of important significance. Second, gaining an appreciation of computational thinking, a process that provides the foundations for solving real-world problems. Finally, providing an overview of the very diverse and exciting field of computer science - a field which, arguably more than any other, impacts how we work, live, and play today. Prerequisite: Introduction to Computer Programming or placement exam. Equivalency: This course counts for <a href=\"/search/?p=CSCI-UA%20101\" data-action=\"result-detail\" data-group=\"code:CSCI-UA 101\" >CSCI-UA 101</a>. Fulfillment: Core Curriculum Requirement Algorithmic Thinking; Computer Science Major Required Courses; Computer Systems Engineering Major Required Courses; Data Science Major Foundational Courses; Electrical and Systems Engineering Major Required Major Courses.', 'meeting_html': '<div class=\"meet\">M 1:15pm-3:05pm<span class=\"meet-room-1238\"> in SH 567 W Yangsi Rd, Rm S301</span><span class=\"meet-dates\"> (8/28 to 12/8)</span></div>', 'dates_html': '2023-08-28 through 2023-12-08', 'clssnotes': '', 'all_sections': '<div class=\"course-sections\" role=\"grid\" aria-readonly=\"true\"><div role=\"row\"><div role=\"columnheader\" scope=\"col\">Class #</div><div role=\"columnheader\" scope=\"col\">Section #</div><div role=\"columnheader\" scope=\"col\">Meets</div><div role=\"columnheader\" scope=\"col\">Instructor</div></div><a role=\"row\" href=\"#\" class=\"course-section\" data-action=\"result-detail\" data-group=\"code:CSCI-SHU 101\" data-srcdb=\"1238\" data-key=\"crn:17798\"><div role=\"rowheader\" class=\"course-section-crn\"><span class=\"header-text\">Class #: </span> 17798</div><div role=\"gridcell\" class=\"course-section-section\"><span class=\"header-text\">Section #: </span> 001</div><div role=\"gridcell\" class=\"course-section-mp\"><span class=\"header-text\">Meets: </span> M 1:15-3:05p</div><div role=\"gridcell\" class=\"course-section-instr\"><span class=\"header-text\">Instructor: </span> X. Gu</div></a><a role=\"row\" href=\"#\" class=\"course-section\" data-action=\"result-detail\" data-group=\"code:CSCI-SHU 101\" data-srcdb=\"1238\" data-key=\"crn:17799\"><div role=\"rowheader\" class=\"course-section-crn\"><span class=\"header-text\">Class #: </span> 17799</div><div role=\"gridcell\" class=\"course-section-section\"><span class=\"header-text\">Section #: </span> 002</div><div role=\"gridcell\" class=\"course-section-mp\"><span class=\"header-text\">Meets: </span> T 3:15-5:05p</div><div role=\"gridcell\" class=\"course-section-instr\"><span class=\"header-text\">Instructor: </span> X. Gu</div></a><a role=\"row\" href=\"#\" class=\"course-section\" data-action=\"result-detail\" data-group=\"code:CSCI-SHU 101\" data-srcdb=\"1238\" data-key=\"crn:17800\"><div role=\"rowheader\" class=\"course-section-crn\"><span class=\"header-text\">Class #: </span> 17800</div><div role=\"gridcell\" class=\"course-section-section\"><span class=\"header-text\">Section #: </span> 003</div><div role=\"gridcell\" class=\"course-section-mp\"><span class=\"header-text\">Meets: </span> W 1:15-3:05p</div><div role=\"gridcell\" class=\"course-section-instr\"><span class=\"header-text\">Instructor: </span> W. Yin</div></a><a role=\"row\" href=\"#\" class=\"course-section\" data-action=\"result-detail\" data-group=\"code:CSCI-SHU 101\" data-srcdb=\"1238\" data-key=\"crn:18492\"><div role=\"rowheader\" class=\"course-section-crn\"><span class=\"header-text\">Class #: </span> 18492</div><div role=\"gridcell\" class=\"course-section-section\"><span class=\"header-text\">Section #: </span> 004</div><div role=\"gridcell\" class=\"course-section-mp\"><span class=\"header-text\">Meets: </span> R 3:15-5:05p</div><div role=\"gridcell\" class=\"course-section-instr\"><span class=\"header-text\">Instructor: </span> W. Yin</div></a></div><div class=\"course-sections-calendar text-center margin--huge\"><button class=\"btn btn--inverse\" data-action=\"show-sections-calendar\">VIEW CALENDAR</button></div>', 'srcdb': '1238', 'allInGroup': []}\n",
      "Class #:17798, Section #:001, Meets:M 1:15-3:05p, Instructor:X. Gu\n",
      "Class #:17799, Section #:002, Meets:T 3:15-5:05p, Instructor:X. Gu\n",
      "Class #:17800, Section #:003, Meets:W 1:15-3:05p, Instructor:W. Yin\n",
      "Class #:18492, Section #:004, Meets:R 3:15-5:05p, Instructor:W. Yin\n",
      "Meeting Time: Meets:R 3:15-5:05p\n",
      "Meeting Days and Times: M 1:15pm-3:05pm\n",
      "Meeting Dates: (8/28 to 12/8)\n",
      "Start Date: 2023-08-28\n",
      "End Date: 2023-12-08\n"
     ]
    }
   ],
   "source": [
    "import json\n",
    "with open('fall2023courses_info_CSCI-SHU.json', 'r') as f:\n",
    "    course_info_list = json.load(f)\n",
    "\n",
    "for course_info in course_info_list[:1]:\n",
    "    print(course_info)\n",
    "    dataprocessor(course_info)"
   ]
  },
  {
   "cell_type": "code",
   "execution_count": null,
   "metadata": {},
   "outputs": [],
   "source": []
  }
 ],
 "metadata": {
  "kernelspec": {
   "display_name": "crawler",
   "language": "python",
   "name": "python3"
  },
  "language_info": {
   "codemirror_mode": {
    "name": "ipython",
    "version": 3
   },
   "file_extension": ".py",
   "mimetype": "text/x-python",
   "name": "python",
   "nbconvert_exporter": "python",
   "pygments_lexer": "ipython3",
   "version": "3.12.0"
  }
 },
 "nbformat": 4,
 "nbformat_minor": 2
}
